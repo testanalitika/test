{
  "nbformat": 4,
  "nbformat_minor": 0,
  "metadata": {
    "colab": {
      "provenance": []
    },
    "kernelspec": {
      "name": "python3",
      "display_name": "Python 3"
    },
    "language_info": {
      "name": "python"
    }
  },
  "cells": [
    {
      "cell_type": "code",
      "execution_count": null,
      "metadata": {
        "id": "7dEMYgFfrDaY"
      },
      "outputs": [],
      "source": [
        "#a.Импортируйте библиотеку NumPy\n",
        "\n",
        "import numpy as np"
      ]
    },
    {
      "cell_type": "code",
      "source": [
        "#b.Создайте массив из 10 нулей\n",
        "\n",
        "a = np.zeros(10)\n",
        "print(a)"
      ],
      "metadata": {
        "colab": {
          "base_uri": "https://localhost:8080/"
        },
        "id": "Im7TxQ_vrYHr",
        "outputId": "6c0cc0d3-d6fe-426c-e17d-2cdec275d950"
      },
      "execution_count": null,
      "outputs": [
        {
          "output_type": "stream",
          "name": "stdout",
          "text": [
            "[0. 0. 0. 0. 0. 0. 0. 0. 0. 0.]\n"
          ]
        }
      ]
    },
    {
      "cell_type": "code",
      "source": [
        "#c.Создать массив из 10 единиц\n",
        "\n",
        "a = np.ones(10)\n",
        "print(a)"
      ],
      "metadata": {
        "colab": {
          "base_uri": "https://localhost:8080/"
        },
        "id": "1TtJlBdprjB4",
        "outputId": "3e545ff6-694c-4ec8-8d1e-1755f06e0cbb"
      },
      "execution_count": null,
      "outputs": [
        {
          "output_type": "stream",
          "name": "stdout",
          "text": [
            "[1. 1. 1. 1. 1. 1. 1. 1. 1. 1.]\n"
          ]
        }
      ]
    },
    {
      "cell_type": "code",
      "source": [
        "#d.Создать массив из 10 пятерок\n",
        "\n",
        "a = np.ones(10)*5\n",
        "print(a)"
      ],
      "metadata": {
        "colab": {
          "base_uri": "https://localhost:8080/"
        },
        "id": "IM9nwhrJrpXM",
        "outputId": "89caeace-0c3d-4de3-b16f-32bcc09f9147"
      },
      "execution_count": null,
      "outputs": [
        {
          "output_type": "stream",
          "name": "stdout",
          "text": [
            "[5. 5. 5. 5. 5. 5. 5. 5. 5. 5.]\n"
          ]
        }
      ]
    },
    {
      "cell_type": "code",
      "source": [
        "#e.Создать массив из целых чисел от 10 до 50\n",
        "\n",
        "a = np.arange(10,51)\n",
        "print(a)"
      ],
      "metadata": {
        "colab": {
          "base_uri": "https://localhost:8080/"
        },
        "id": "cFhj_kkZruvE",
        "outputId": "25f431b6-5f38-4b1e-d574-5c481877b8b7"
      },
      "execution_count": null,
      "outputs": [
        {
          "output_type": "stream",
          "name": "stdout",
          "text": [
            "[10 11 12 13 14 15 16 17 18 19 20 21 22 23 24 25 26 27 28 29 30 31 32 33\n",
            " 34 35 36 37 38 39 40 41 42 43 44 45 46 47 48 49 50]\n"
          ]
        }
      ]
    },
    {
      "cell_type": "code",
      "source": [
        "#f.Создать массив из четных чисел от 10 до 50\n",
        "\n",
        "a = np.arange(10,51,2)\n",
        "print(a)"
      ],
      "metadata": {
        "colab": {
          "base_uri": "https://localhost:8080/"
        },
        "id": "8IX-TziMr9Fp",
        "outputId": "f51902e6-2621-4719-f3d5-f5a66ada5485"
      },
      "execution_count": null,
      "outputs": [
        {
          "output_type": "stream",
          "name": "stdout",
          "text": [
            "[10 12 14 16 18 20 22 24 26 28 30 32 34 36 38 40 42 44 46 48 50]\n"
          ]
        }
      ]
    },
    {
      "cell_type": "code",
      "source": [
        "#g.Создать матрицу 3х3 с числами от 0 до 8\n",
        "\n",
        "a = np.arange(9).reshape(3,3)\n",
        "print(a)"
      ],
      "metadata": {
        "colab": {
          "base_uri": "https://localhost:8080/"
        },
        "id": "NFa2LbdgsIhz",
        "outputId": "cef1cfa1-b359-41bd-94a8-9b0c6b1de121"
      },
      "execution_count": null,
      "outputs": [
        {
          "output_type": "stream",
          "name": "stdout",
          "text": [
            "[[0 1 2]\n",
            " [3 4 5]\n",
            " [6 7 8]]\n"
          ]
        }
      ]
    },
    {
      "cell_type": "code",
      "source": [
        "#h.Создать единичную матрицу 3x3\n",
        "\n",
        "a = np.eye(3)\n",
        "print(a)"
      ],
      "metadata": {
        "colab": {
          "base_uri": "https://localhost:8080/"
        },
        "id": "sLE4lTO-sejt",
        "outputId": "fa2a98cd-79af-4845-864b-233d6501c0cd"
      },
      "execution_count": null,
      "outputs": [
        {
          "output_type": "stream",
          "name": "stdout",
          "text": [
            "[[1. 0. 0.]\n",
            " [0. 1. 0.]\n",
            " [0. 0. 1.]]\n"
          ]
        }
      ]
    },
    {
      "cell_type": "code",
      "source": [
        "#i.Используйте NumPy для генерации случайного числа от 0 до 1\n",
        "\n",
        "a = np.random.uniform(0, 1)\n",
        "print(a)"
      ],
      "metadata": {
        "colab": {
          "base_uri": "https://localhost:8080/"
        },
        "id": "kFn6glaOsp9H",
        "outputId": "269f1355-11a5-41c8-ad43-2fadbae2b9b4"
      },
      "execution_count": null,
      "outputs": [
        {
          "output_type": "stream",
          "name": "stdout",
          "text": [
            "0.2292568236916147\n"
          ]
        }
      ]
    },
    {
      "cell_type": "code",
      "source": [
        "#j.Используйте NumPy для генерации массива из 25 случайных чисел,взятых из стандартного нормального распределения\n",
        "\n",
        "a = np.random.randn(25)\n",
        "print(a)"
      ],
      "metadata": {
        "colab": {
          "base_uri": "https://localhost:8080/"
        },
        "id": "zKKTjznBtq9P",
        "outputId": "1caa3c86-ae6c-4be9-af91-b4e5631becc6"
      },
      "execution_count": null,
      "outputs": [
        {
          "output_type": "stream",
          "name": "stdout",
          "text": [
            "[ 0.53093001 -0.43553571  1.0985017  -1.67027379  0.69515969  0.41937393\n",
            " -1.29375741 -1.3223415  -0.12774991 -0.37132758 -0.52817439  1.21488286\n",
            "  1.25876332 -1.17469627  1.87719874  0.63394432  1.39034286 -0.94243114\n",
            "  0.37914599  1.3147193  -0.9027529   1.6015934   0.05133526  1.31241341\n",
            "  0.66879652]\n"
          ]
        }
      ]
    },
    {
      "cell_type": "code",
      "source": [
        "#k.Создайте следующую матрицу используя функции библиотеки NumPy:\n",
        "\n",
        "a = np.linspace(0.01, 1, 100).reshape(10,10)\n",
        "print(a)"
      ],
      "metadata": {
        "colab": {
          "base_uri": "https://localhost:8080/"
        },
        "id": "8RRHmdA_uCQu",
        "outputId": "5bfc628c-e5ec-4aa1-b3fc-300c4a66746e"
      },
      "execution_count": null,
      "outputs": [
        {
          "output_type": "stream",
          "name": "stdout",
          "text": [
            "[[0.01 0.02 0.03 0.04 0.05 0.06 0.07 0.08 0.09 0.1 ]\n",
            " [0.11 0.12 0.13 0.14 0.15 0.16 0.17 0.18 0.19 0.2 ]\n",
            " [0.21 0.22 0.23 0.24 0.25 0.26 0.27 0.28 0.29 0.3 ]\n",
            " [0.31 0.32 0.33 0.34 0.35 0.36 0.37 0.38 0.39 0.4 ]\n",
            " [0.41 0.42 0.43 0.44 0.45 0.46 0.47 0.48 0.49 0.5 ]\n",
            " [0.51 0.52 0.53 0.54 0.55 0.56 0.57 0.58 0.59 0.6 ]\n",
            " [0.61 0.62 0.63 0.64 0.65 0.66 0.67 0.68 0.69 0.7 ]\n",
            " [0.71 0.72 0.73 0.74 0.75 0.76 0.77 0.78 0.79 0.8 ]\n",
            " [0.81 0.82 0.83 0.84 0.85 0.86 0.87 0.88 0.89 0.9 ]\n",
            " [0.91 0.92 0.93 0.94 0.95 0.96 0.97 0.98 0.99 1.  ]]\n"
          ]
        }
      ]
    },
    {
      "cell_type": "code",
      "source": [
        "# это наша стартовая матрица mat = np.arange(1,26).reshape(5,5)print(mat)\n",
        "\n",
        "#l. Необходимо написать код который вернет следующую матрицуиз стартовой:\n",
        "\n",
        "mat = np.arange(1,26).reshape(5,5)\n",
        "print(mat[2:, 1:])"
      ],
      "metadata": {
        "colab": {
          "base_uri": "https://localhost:8080/"
        },
        "id": "AvrXfXPmuZES",
        "outputId": "d2c588b9-5750-4dff-f01d-147ae39aa712"
      },
      "execution_count": null,
      "outputs": [
        {
          "output_type": "stream",
          "name": "stdout",
          "text": [
            "[[12 13 14 15]\n",
            " [17 18 19 20]\n",
            " [22 23 24 25]]\n"
          ]
        }
      ]
    },
    {
      "cell_type": "code",
      "source": [
        "#m.Написать код обращения к элементу который вернет значение  20 изстартовой матрицы задачи l.\n",
        "\n",
        "print(mat[3][4])"
      ],
      "metadata": {
        "colab": {
          "base_uri": "https://localhost:8080/"
        },
        "id": "MpkphIjxuvwx",
        "outputId": "865a870d-f9fc-4289-c2a8-d659ed0c5148"
      },
      "execution_count": null,
      "outputs": [
        {
          "output_type": "stream",
          "name": "stdout",
          "text": [
            "20\n"
          ]
        }
      ]
    },
    {
      "cell_type": "code",
      "source": [
        "#n.Написать код к стартовой матрице задачи l , который воспроизводитвывод, показанный ниже\n",
        "\n",
        "print(mat[:3,1:2])"
      ],
      "metadata": {
        "colab": {
          "base_uri": "https://localhost:8080/"
        },
        "id": "bb7yVNz2u6Se",
        "outputId": "3bfb006d-9c7d-4e08-f3a7-fd065d801ab1"
      },
      "execution_count": null,
      "outputs": [
        {
          "output_type": "stream",
          "name": "stdout",
          "text": [
            "[[ 2]\n",
            " [ 7]\n",
            " [12]]\n"
          ]
        }
      ]
    },
    {
      "cell_type": "code",
      "source": [
        "#o.Написать код к стартовой матрице задачи l , который воспроизводитвывод, показанный ниже\n",
        "\n",
        "print(mat[4,:])"
      ],
      "metadata": {
        "colab": {
          "base_uri": "https://localhost:8080/"
        },
        "id": "-TSaU6ItvAhR",
        "outputId": "6b90ff03-4624-4c08-b2af-4755320e510c"
      },
      "execution_count": null,
      "outputs": [
        {
          "output_type": "stream",
          "name": "stdout",
          "text": [
            "[21 22 23 24 25]\n"
          ]
        }
      ]
    },
    {
      "cell_type": "code",
      "source": [
        "#p.Написать код к стартовой матрице задачи l , который воспроизводитвывод, показанный ниже\n",
        "\n",
        "print(mat[3:,:])"
      ],
      "metadata": {
        "colab": {
          "base_uri": "https://localhost:8080/"
        },
        "id": "mONWdiukvHeR",
        "outputId": "14294990-b679-4260-9ce0-d6fb260ba50a"
      },
      "execution_count": null,
      "outputs": [
        {
          "output_type": "stream",
          "name": "stdout",
          "text": [
            "[[16 17 18 19 20]\n",
            " [21 22 23 24 25]]\n"
          ]
        }
      ]
    },
    {
      "cell_type": "code",
      "source": [
        "#q.Получить сумму всех значений в стартовой матрице mat\n",
        "\n",
        "print(mat.sum())"
      ],
      "metadata": {
        "colab": {
          "base_uri": "https://localhost:8080/"
        },
        "id": "3hx6qw8vvN7-",
        "outputId": "379b2a62-cfea-482c-e9e1-1fe1f7608e55"
      },
      "execution_count": null,
      "outputs": [
        {
          "output_type": "stream",
          "name": "stdout",
          "text": [
            "325\n"
          ]
        }
      ]
    },
    {
      "cell_type": "code",
      "source": [
        "#r.Получить стандартное отклонение в стартовой матрице mat\n",
        "\n",
        "print(mat.std())"
      ],
      "metadata": {
        "colab": {
          "base_uri": "https://localhost:8080/"
        },
        "id": "SO5fuurBvWHx",
        "outputId": "ef21f1ed-165b-4a49-cca9-064dda04906f"
      },
      "execution_count": null,
      "outputs": [
        {
          "output_type": "stream",
          "name": "stdout",
          "text": [
            "7.211102550927978\n"
          ]
        }
      ]
    },
    {
      "cell_type": "code",
      "source": [
        "#s.Получить сумму значений в колонках в стартовой матрице mat\n",
        "\n",
        "print(mat.sum(axis=1)) \n"
      ],
      "metadata": {
        "colab": {
          "base_uri": "https://localhost:8080/"
        },
        "id": "LyMKl_bgveNA",
        "outputId": "f4b13d7a-48c8-48c8-bb11-3363ff5264d8"
      },
      "execution_count": null,
      "outputs": [
        {
          "output_type": "stream",
          "name": "stdout",
          "text": [
            "[ 15  40  65  90 115]\n"
          ]
        }
      ]
    }
  ]
}